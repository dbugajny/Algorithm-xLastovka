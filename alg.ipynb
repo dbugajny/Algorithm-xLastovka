{
 "cells": [
  {
   "cell_type": "code",
   "execution_count": null,
   "outputs": [],
   "source": [
    "import random\n",
    "from queue import PriorityQueue"
   ],
   "metadata": {
    "collapsed": false
   },
   "id": "33e3c159fa46bb33"
  },
  {
   "cell_type": "code",
   "execution_count": 188,
   "outputs": [],
   "source": [
    "def c(sequence, k):\n",
    "    return sum([sequence[i] * sequence[i+k] for i in range(0, len(sequence) - k)])\n",
    "\n",
    "def e(sequence):\n",
    "    return sum([c(sequence, k) ** 2 for k in range(1, len(sequence))])\n",
    "\n",
    "def f(sequence):\n",
    "    return len(sequence) ** 2 / (2 * e(sequence))"
   ],
   "metadata": {
    "collapsed": false,
    "ExecuteTime": {
     "end_time": "2023-12-08T20:51:33.571494Z",
     "start_time": "2023-12-08T20:51:33.563386Z"
    }
   },
   "id": "7261dea664a9d368"
  },
  {
   "cell_type": "code",
   "execution_count": 189,
   "outputs": [
    {
     "data": {
      "text/plain": "[1, 0, 1]"
     },
     "execution_count": 189,
     "metadata": {},
     "output_type": "execute_result"
    }
   ],
   "source": [
    "abc = [1, -1, 1, 1]\n",
    "\n",
    "[c(abc, k) ** 2 for k in range(1, len(abc))]"
   ],
   "metadata": {
    "collapsed": false,
    "ExecuteTime": {
     "end_time": "2023-12-08T20:51:33.809576Z",
     "start_time": "2023-12-08T20:51:33.801863Z"
    }
   },
   "id": "e1eb7a0d0aa5fa7f"
  },
  {
   "cell_type": "code",
   "execution_count": 190,
   "outputs": [
    {
     "data": {
      "text/plain": "2"
     },
     "execution_count": 190,
     "metadata": {},
     "output_type": "execute_result"
    }
   ],
   "source": [
    "e(abc)"
   ],
   "metadata": {
    "collapsed": false,
    "ExecuteTime": {
     "end_time": "2023-12-08T20:51:34.043873Z",
     "start_time": "2023-12-08T20:51:34.037166Z"
    }
   },
   "id": "b27c1bdf5bae2a41"
  },
  {
   "cell_type": "code",
   "execution_count": 191,
   "outputs": [
    {
     "data": {
      "text/plain": "4.0"
     },
     "execution_count": 191,
     "metadata": {},
     "output_type": "execute_result"
    }
   ],
   "source": [
    "f(abc)"
   ],
   "metadata": {
    "collapsed": false,
    "ExecuteTime": {
     "end_time": "2023-12-08T20:51:34.242196Z",
     "start_time": "2023-12-08T20:51:34.234535Z"
    }
   },
   "id": "635dd6a00a5037bb"
  },
  {
   "cell_type": "code",
   "execution_count": 208,
   "outputs": [],
   "source": [
    "def initialize_coord(length):\n",
    "    return random.choices([1, -1], k=length)\n",
    "\n",
    "def evaluate(coord):\n",
    "    return e(coord)"
   ],
   "metadata": {
    "collapsed": false,
    "ExecuteTime": {
     "end_time": "2023-12-08T20:54:14.534163Z",
     "start_time": "2023-12-08T20:54:14.519671Z"
    }
   },
   "id": "75ce04f00e8d3c38"
  },
  {
   "cell_type": "code",
   "execution_count": 193,
   "outputs": [],
   "source": [
    "def lst_to_str(lst):\n",
    "    lst_int = [str(int(x)) for x in lst]\n",
    "    \n",
    "    return \"\".join(lst_int)"
   ],
   "metadata": {
    "collapsed": false,
    "ExecuteTime": {
     "end_time": "2023-12-08T20:51:34.794582Z",
     "start_time": "2023-12-08T20:51:34.787401Z"
    }
   },
   "id": "3620513b21edf45c"
  },
  {
   "cell_type": "code",
   "execution_count": 311,
   "id": "initial_id",
   "metadata": {
    "collapsed": true,
    "ExecuteTime": {
     "end_time": "2023-12-09T09:21:31.051773Z",
     "start_time": "2023-12-09T09:21:31.046570Z"
    }
   },
   "outputs": [],
   "source": [
    "def xlastovka_algorithm(length, target_values, max_iter):\n",
    "    priority_queue = PriorityQueue()\n",
    "    close_pivots = set()\n",
    "    coord = initialize_coord(length)\n",
    "    cnt_probe = 0\n",
    "    \n",
    "    value = evaluate(coord)\n",
    "    cnt_probe += 1\n",
    "    \n",
    "    print(f\"INIT EVAL: {value}\")\n",
    "    \n",
    "    if value <= target_values:\n",
    "        return coord, value\n",
    "    \n",
    "    priority_queue.put((value, coord))\n",
    "    \n",
    "    \n",
    "    while value > target_values and cnt_probe <= max_iter:\n",
    "        value, coord  = priority_queue.get()\n",
    "        \n",
    "        for i in range(0, (length + 1) // 2):\n",
    "        # for i in range(0, length):\n",
    "            s_flipped = coord\n",
    "            s_flipped[i] *= -1\n",
    "            \n",
    "            if lst_to_str(s_flipped) in close_pivots:\n",
    "                continue\n",
    "            else:\n",
    "                value = evaluate(s_flipped)\n",
    "                cnt_probe += 1\n",
    "                \n",
    "            if value <= target_values:\n",
    "                break\n",
    "            else:\n",
    "                priority_queue.put((value, s_flipped))\n",
    "            \n",
    "        close_pivots.add(lst_to_str(coord))\n",
    "    \n",
    "    print(f\"N iters: {cnt_probe}\")\n",
    "    return coord, value    "
   ]
  },
  {
   "cell_type": "code",
   "execution_count": 312,
   "outputs": [],
   "source": [
    "# 1 --- -1, 1, -1\n",
    "# 2 --- -1, -1\n",
    "# 3 --- "
   ],
   "metadata": {
    "collapsed": false,
    "ExecuteTime": {
     "end_time": "2023-12-09T09:21:31.295363Z",
     "start_time": "2023-12-09T09:21:31.288815Z"
    }
   },
   "id": "46e6b0e1c8a2c882"
  },
  {
   "cell_type": "code",
   "execution_count": 313,
   "outputs": [
    {
     "data": {
      "text/plain": "6"
     },
     "execution_count": 313,
     "metadata": {},
     "output_type": "execute_result"
    }
   ],
   "source": [
    "e([-1, 1, 1, -1])"
   ],
   "metadata": {
    "collapsed": false,
    "ExecuteTime": {
     "end_time": "2023-12-09T09:21:31.535126Z",
     "start_time": "2023-12-09T09:21:31.528939Z"
    }
   },
   "id": "b366351ede2b7106"
  },
  {
   "cell_type": "code",
   "execution_count": 314,
   "outputs": [
    {
     "name": "stdout",
     "output_type": "stream",
     "text": [
      "INIT EVAL: 35\n",
      "N iters: 100002\n"
     ]
    },
    {
     "data": {
      "text/plain": "([-1, 1, 1, -1, -1, -1, 1], 19)"
     },
     "execution_count": 314,
     "metadata": {},
     "output_type": "execute_result"
    }
   ],
   "source": [
    "xlastovka_algorithm(7, 3, 100000)"
   ],
   "metadata": {
    "collapsed": false,
    "ExecuteTime": {
     "end_time": "2023-12-09T09:21:32.468248Z",
     "start_time": "2023-12-09T09:21:31.776834Z"
    }
   },
   "id": "82afcc6b212da859"
  },
  {
   "cell_type": "code",
   "execution_count": 232,
   "outputs": [
    {
     "data": {
      "text/plain": "'22'"
     },
     "execution_count": 232,
     "metadata": {},
     "output_type": "execute_result"
    }
   ],
   "source": [
    "def format_result(seq):\n",
    "from itertools import groupby\n",
    "\n",
    "res = \"\"\n",
    "for _, v in groupby([1, 1, -1, 1]):\n",
    "    res += str(len(list(v)))\n",
    "res\n",
    "    \n",
    "    \n",
    "    return res\n",
    "\n",
    "format_result([1, 1, -1, 1])"
   ],
   "metadata": {
    "collapsed": false,
    "ExecuteTime": {
     "end_time": "2023-12-08T21:00:55.802322Z",
     "start_time": "2023-12-08T21:00:55.793934Z"
    }
   },
   "id": "35516a012390d7d7"
  },
  {
   "cell_type": "code",
   "execution_count": 246,
   "outputs": [
    {
     "data": {
      "text/plain": "'211'"
     },
     "execution_count": 246,
     "metadata": {},
     "output_type": "execute_result"
    }
   ],
   "source": [],
   "metadata": {
    "collapsed": false,
    "ExecuteTime": {
     "end_time": "2023-12-08T21:04:45.748147Z",
     "start_time": "2023-12-08T21:04:45.738654Z"
    }
   },
   "id": "687b6653272d10c6"
  },
  {
   "cell_type": "code",
   "execution_count": 241,
   "outputs": [
    {
     "data": {
      "text/plain": "{1: [2, 1], -1: [1]}"
     },
     "execution_count": 241,
     "metadata": {},
     "output_type": "execute_result"
    }
   ],
   "source": [
    "d"
   ],
   "metadata": {
    "collapsed": false,
    "ExecuteTime": {
     "end_time": "2023-12-08T21:03:49.697408Z",
     "start_time": "2023-12-08T21:03:49.683681Z"
    }
   },
   "id": "c4edcac9ea9de80e"
  },
  {
   "cell_type": "code",
   "execution_count": 151,
   "outputs": [
    {
     "ename": "ZeroDivisionError",
     "evalue": "division by zero",
     "output_type": "error",
     "traceback": [
      "\u001B[0;31m---------------------------------------------------------------------------\u001B[0m",
      "\u001B[0;31mZeroDivisionError\u001B[0m                         Traceback (most recent call last)",
      "Cell \u001B[0;32mIn[151], line 1\u001B[0m\n\u001B[0;32m----> 1\u001B[0m \u001B[43mf\u001B[49m\u001B[43m(\u001B[49m\u001B[43m[\u001B[49m\u001B[38;5;241;43m1\u001B[39;49m\u001B[43m,\u001B[49m\u001B[43m \u001B[49m\u001B[38;5;241;43m1\u001B[39;49m\u001B[43m,\u001B[49m\u001B[43m \u001B[49m\u001B[38;5;241;43m-\u001B[39;49m\u001B[38;5;241;43m1\u001B[39;49m\u001B[43m]\u001B[49m\u001B[43m)\u001B[49m\n",
      "Cell \u001B[0;32mIn[141], line 8\u001B[0m, in \u001B[0;36mf\u001B[0;34m(sequence)\u001B[0m\n\u001B[1;32m      7\u001B[0m \u001B[38;5;28;01mdef\u001B[39;00m \u001B[38;5;21mf\u001B[39m(sequence):\n\u001B[0;32m----> 8\u001B[0m     \u001B[38;5;28;01mreturn\u001B[39;00m \u001B[38;5;28;43mlen\u001B[39;49m\u001B[43m(\u001B[49m\u001B[43msequence\u001B[49m\u001B[43m)\u001B[49m\u001B[43m \u001B[49m\u001B[38;5;241;43m*\u001B[39;49m\u001B[38;5;241;43m*\u001B[39;49m\u001B[43m \u001B[49m\u001B[38;5;241;43m2\u001B[39;49m\u001B[43m \u001B[49m\u001B[38;5;241;43m/\u001B[39;49m\u001B[43m \u001B[49m\u001B[43m(\u001B[49m\u001B[38;5;241;43m2\u001B[39;49m\u001B[43m \u001B[49m\u001B[38;5;241;43m*\u001B[39;49m\u001B[43m \u001B[49m\u001B[43me\u001B[49m\u001B[43m(\u001B[49m\u001B[43msequence\u001B[49m\u001B[43m)\u001B[49m\u001B[43m)\u001B[49m\n",
      "\u001B[0;31mZeroDivisionError\u001B[0m: division by zero"
     ]
    }
   ],
   "source": [
    "f([1, 1, -1])"
   ],
   "metadata": {
    "collapsed": false,
    "ExecuteTime": {
     "end_time": "2023-12-08T05:44:52.510109Z",
     "start_time": "2023-12-08T05:44:52.496961Z"
    }
   },
   "id": "26b7472528d5308f"
  },
  {
   "cell_type": "code",
   "execution_count": null,
   "outputs": [],
   "source": [
    "# 1, 1 = 2\n",
    "# 1 = 1\n",
    "\n",
    "# 4, 1 = 5\n",
    "# 9 / (2 * 5)"
   ],
   "metadata": {
    "collapsed": false
   },
   "id": "6c4c943f2c995da9"
  },
  {
   "cell_type": "code",
   "execution_count": 133,
   "outputs": [
    {
     "data": {
      "text/plain": "4"
     },
     "execution_count": 133,
     "metadata": {},
     "output_type": "execute_result"
    }
   ],
   "source": [],
   "metadata": {
    "collapsed": false,
    "ExecuteTime": {
     "end_time": "2023-12-07T21:55:39.611766Z",
     "start_time": "2023-12-07T21:55:39.598944Z"
    }
   },
   "id": "f20b828b7b4c39a7"
  },
  {
   "cell_type": "code",
   "execution_count": null,
   "outputs": [],
   "source": [],
   "metadata": {
    "collapsed": false
   },
   "id": "ab397c566a914f73"
  }
 ],
 "metadata": {
  "kernelspec": {
   "display_name": "Python 3",
   "language": "python",
   "name": "python3"
  },
  "language_info": {
   "codemirror_mode": {
    "name": "ipython",
    "version": 2
   },
   "file_extension": ".py",
   "mimetype": "text/x-python",
   "name": "python",
   "nbconvert_exporter": "python",
   "pygments_lexer": "ipython2",
   "version": "2.7.6"
  }
 },
 "nbformat": 4,
 "nbformat_minor": 5
}
