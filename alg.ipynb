{
 "cells": [
  {
   "cell_type": "code",
   "execution_count": 2,
   "id": "33e3c159fa46bb33",
   "metadata": {},
   "outputs": [],
   "source": [
    "import random\n",
    "from queue import PriorityQueue"
   ]
  },
  {
   "cell_type": "code",
   "execution_count": 3,
   "id": "7261dea664a9d368",
   "metadata": {
    "ExecuteTime": {
     "end_time": "2023-12-08T20:51:33.571494Z",
     "start_time": "2023-12-08T20:51:33.563386Z"
    }
   },
   "outputs": [],
   "source": [
    "def c(sequence, k):\n",
    "    return sum([sequence[i] * sequence[i+k] for i in range(0, len(sequence) - k)])\n",
    "\n",
    "def e(sequence):\n",
    "    return sum([c(sequence, k) ** 2 for k in range(1, len(sequence))])\n",
    "\n",
    "def f(sequence):\n",
    "    return len(sequence) ** 2 / (2 * e(sequence))"
   ]
  },
  {
   "cell_type": "code",
   "execution_count": 4,
   "id": "e1eb7a0d0aa5fa7f",
   "metadata": {
    "ExecuteTime": {
     "end_time": "2023-12-08T20:51:33.809576Z",
     "start_time": "2023-12-08T20:51:33.801863Z"
    }
   },
   "outputs": [
    {
     "data": {
      "text/plain": [
       "2"
      ]
     },
     "execution_count": 4,
     "metadata": {},
     "output_type": "execute_result"
    }
   ],
   "source": [
    "abc = [1, -1, 1, 1]\n",
    "L = 4\n",
    "\n",
    "e(abc)"
   ]
  },
  {
   "cell_type": "code",
   "execution_count": 5,
   "id": "75ce04f00e8d3c38",
   "metadata": {
    "ExecuteTime": {
     "end_time": "2023-12-08T20:54:14.534163Z",
     "start_time": "2023-12-08T20:54:14.519671Z"
    }
   },
   "outputs": [],
   "source": [
    "def initialize_coord(length):\n",
    "    return random.choices([1, -1], k=length)\n",
    "\n",
    "def evaluate(coord):\n",
    "    return e(coord)"
   ]
  },
  {
   "cell_type": "code",
   "execution_count": 20,
   "id": "759da900",
   "metadata": {},
   "outputs": [],
   "source": [
    "def init_skew_symmetric(length):\n",
    "    k = (length+1)//2\n",
    "    \n",
    "    seq = random.choices([1, -1], k=k)\n",
    "    \n",
    "    for i in range(1, k):\n",
    "        next_s = ((-1)**i) * seq[k-i]\n",
    "        seq.append(next_s)\n",
    "        \n",
    "    \n",
    "    return seq"
   ]
  },
  {
   "cell_type": "code",
   "execution_count": 21,
   "id": "18d06c1a",
   "metadata": {},
   "outputs": [],
   "source": [
    "def complete_skew_symmetric(seq):\n",
    "    length = len(seq)\n",
    "    \n",
    "    k = (length+1)//2\n",
    "    \n",
    "    for i in range(1, k):\n",
    "        next_s = ((-1)**i) * seq[k-i]\n",
    "        seq[k+i] = next_s\n",
    "        \n",
    "    \n",
    "    return seq"
   ]
  },
  {
   "cell_type": "code",
   "execution_count": 18,
   "id": "3620513b21edf45c",
   "metadata": {
    "ExecuteTime": {
     "end_time": "2023-12-08T20:51:34.794582Z",
     "start_time": "2023-12-08T20:51:34.787401Z"
    }
   },
   "outputs": [],
   "source": [
    "def lst_to_str(lst):\n",
    "    lst_int = [str(int(x)) for x in lst]\n",
    "    \n",
    "    return \"\".join(lst_int)"
   ]
  },
  {
   "cell_type": "code",
   "execution_count": 36,
   "id": "854cb1b7-6534-49b0-9d87-4773260e716f",
   "metadata": {},
   "outputs": [],
   "source": [
    "from copy import deepcopy"
   ]
  },
  {
   "cell_type": "code",
   "execution_count": 46,
   "id": "initial_id",
   "metadata": {
    "ExecuteTime": {
     "end_time": "2023-12-09T09:21:31.051773Z",
     "start_time": "2023-12-09T09:21:31.046570Z"
    }
   },
   "outputs": [],
   "source": [
    "def xlastovka_algorithm(length, target_values, max_iter):\n",
    "    priority_queue = PriorityQueue()\n",
    "    close_pivots = set()\n",
    "    coord = init_skew_symmetric(length)\n",
    "    cnt_probe = 0\n",
    "    \n",
    "    value = evaluate(coord)\n",
    "    \n",
    "    cnt_probe += 1\n",
    "    \n",
    "    print(f\"INIT EVAL: {value}\")\n",
    "    \n",
    "    if value <= target_values:\n",
    "        return coord, value\n",
    "\n",
    "    priority_queue.put((value, coord))\n",
    "\n",
    "    testing = 0\n",
    "    \n",
    "    while value > target_values and cnt_probe <= max_iter:\n",
    "        \n",
    "        _, coord  = priority_queue.get()\n",
    "        \n",
    "        for i in range(1, ((length + 1) // 2) + 1):\n",
    "\n",
    "            s_flipped = deepcopy(coord)\n",
    "            s_flipped[i] *= -1\n",
    "\n",
    "            \n",
    "            testing += 1\n",
    "            \n",
    "            if lst_to_str(s_flipped) in close_pivots:\n",
    "                print(testing)\n",
    "                continue\n",
    "            else:\n",
    "                cnt_probe += 1\n",
    "                value = evaluate(s_flipped)\n",
    "                \n",
    "                \n",
    "            if value <= target_values:\n",
    "                break\n",
    "            else:\n",
    "                priority_queue.put((value, s_flipped))\n",
    "            \n",
    "        close_pivots.add(lst_to_str(coord))\n",
    "    \n",
    "    print(f\"N iters: {cnt_probe}\")\n",
    "    return coord, value    "
   ]
  },
  {
   "cell_type": "code",
   "execution_count": 47,
   "id": "82afcc6b212da859",
   "metadata": {
    "ExecuteTime": {
     "end_time": "2023-12-09T09:21:32.468248Z",
     "start_time": "2023-12-09T09:21:31.776834Z"
    }
   },
   "outputs": [
    {
     "name": "stdout",
     "output_type": "stream",
     "text": [
      "INIT EVAL: 19\n",
      "1\n",
      "5\n",
      "8\n",
      "11\n",
      "14\n",
      "17\n",
      "20\n",
      "22\n",
      "24\n",
      "27\n",
      "29\n",
      "31\n",
      "34\n",
      "35\n",
      "36\n",
      "37\n",
      "37\n",
      "37\n",
      "37\n",
      "37\n",
      "37\n",
      "38\n",
      "39\n",
      "40\n",
      "41\n",
      "42\n",
      "43\n",
      "44\n",
      "45\n",
      "46\n",
      "46\n",
      "46\n",
      "46\n",
      "46\n",
      "46\n",
      "46\n",
      "46\n",
      "46\n",
      "46\n",
      "46\n",
      "46\n",
      "46\n",
      "46\n",
      "46\n",
      "46\n",
      "46\n",
      "46\n"
     ]
    },
    {
     "ename": "KeyboardInterrupt",
     "evalue": "",
     "output_type": "error",
     "traceback": [
      "\u001b[0;31m---------------------------------------------------------------------------\u001b[0m",
      "\u001b[0;31mKeyboardInterrupt\u001b[0m                         Traceback (most recent call last)",
      "Cell \u001b[0;32mIn[47], line 1\u001b[0m\n\u001b[0;32m----> 1\u001b[0m cord_res,val \u001b[38;5;241m=\u001b[39m xlastovka_algorithm(\u001b[38;5;241m7\u001b[39m, \u001b[38;5;241m3\u001b[39m, \u001b[38;5;241m100000\u001b[39m)\n",
      "Cell \u001b[0;32mIn[46], line 22\u001b[0m, in \u001b[0;36mxlastovka_algorithm\u001b[0;34m(length, target_values, max_iter)\u001b[0m\n\u001b[1;32m     18\u001b[0m \u001b[38;5;28;01mwhile\u001b[39;00m value \u001b[38;5;241m>\u001b[39m target_values \u001b[38;5;129;01mand\u001b[39;00m cnt_probe \u001b[38;5;241m<\u001b[39m\u001b[38;5;241m=\u001b[39m max_iter:\n\u001b[1;32m     20\u001b[0m     \u001b[38;5;28mprint\u001b[39m(cnt_probe)\n\u001b[0;32m---> 22\u001b[0m     _, coord  \u001b[38;5;241m=\u001b[39m priority_queue\u001b[38;5;241m.\u001b[39mget()\n\u001b[1;32m     24\u001b[0m     \u001b[38;5;28;01mfor\u001b[39;00m i \u001b[38;5;129;01min\u001b[39;00m \u001b[38;5;28mrange\u001b[39m(\u001b[38;5;241m1\u001b[39m, ((length \u001b[38;5;241m+\u001b[39m \u001b[38;5;241m1\u001b[39m) \u001b[38;5;241m/\u001b[39m\u001b[38;5;241m/\u001b[39m \u001b[38;5;241m2\u001b[39m) \u001b[38;5;241m+\u001b[39m \u001b[38;5;241m1\u001b[39m):\n\u001b[1;32m     26\u001b[0m         s_flipped \u001b[38;5;241m=\u001b[39m deepcopy(coord)\n",
      "File \u001b[0;32m~/anaconda3/lib/python3.11/queue.py:171\u001b[0m, in \u001b[0;36mQueue.get\u001b[0;34m(self, block, timeout)\u001b[0m\n\u001b[1;32m    169\u001b[0m \u001b[38;5;28;01melif\u001b[39;00m timeout \u001b[38;5;129;01mis\u001b[39;00m \u001b[38;5;28;01mNone\u001b[39;00m:\n\u001b[1;32m    170\u001b[0m     \u001b[38;5;28;01mwhile\u001b[39;00m \u001b[38;5;129;01mnot\u001b[39;00m \u001b[38;5;28mself\u001b[39m\u001b[38;5;241m.\u001b[39m_qsize():\n\u001b[0;32m--> 171\u001b[0m         \u001b[38;5;28mself\u001b[39m\u001b[38;5;241m.\u001b[39mnot_empty\u001b[38;5;241m.\u001b[39mwait()\n\u001b[1;32m    172\u001b[0m \u001b[38;5;28;01melif\u001b[39;00m timeout \u001b[38;5;241m<\u001b[39m \u001b[38;5;241m0\u001b[39m:\n\u001b[1;32m    173\u001b[0m     \u001b[38;5;28;01mraise\u001b[39;00m \u001b[38;5;167;01mValueError\u001b[39;00m(\u001b[38;5;124m\"\u001b[39m\u001b[38;5;124m'\u001b[39m\u001b[38;5;124mtimeout\u001b[39m\u001b[38;5;124m'\u001b[39m\u001b[38;5;124m must be a non-negative number\u001b[39m\u001b[38;5;124m\"\u001b[39m)\n",
      "File \u001b[0;32m~/anaconda3/lib/python3.11/threading.py:320\u001b[0m, in \u001b[0;36mCondition.wait\u001b[0;34m(self, timeout)\u001b[0m\n\u001b[1;32m    318\u001b[0m \u001b[38;5;28;01mtry\u001b[39;00m:    \u001b[38;5;66;03m# restore state no matter what (e.g., KeyboardInterrupt)\u001b[39;00m\n\u001b[1;32m    319\u001b[0m     \u001b[38;5;28;01mif\u001b[39;00m timeout \u001b[38;5;129;01mis\u001b[39;00m \u001b[38;5;28;01mNone\u001b[39;00m:\n\u001b[0;32m--> 320\u001b[0m         waiter\u001b[38;5;241m.\u001b[39macquire()\n\u001b[1;32m    321\u001b[0m         gotit \u001b[38;5;241m=\u001b[39m \u001b[38;5;28;01mTrue\u001b[39;00m\n\u001b[1;32m    322\u001b[0m     \u001b[38;5;28;01melse\u001b[39;00m:\n",
      "\u001b[0;31mKeyboardInterrupt\u001b[0m: "
     ]
    }
   ],
   "source": [
    "cord_res,val = xlastovka_algorithm(7, 3, 100000)"
   ]
  },
  {
   "cell_type": "code",
   "execution_count": 11,
   "id": "35516a012390d7d7",
   "metadata": {
    "ExecuteTime": {
     "end_time": "2023-12-08T21:00:55.802322Z",
     "start_time": "2023-12-08T21:00:55.793934Z"
    }
   },
   "outputs": [
    {
     "data": {
      "text/plain": [
       "'211'"
      ]
     },
     "execution_count": 11,
     "metadata": {},
     "output_type": "execute_result"
    }
   ],
   "source": [
    "def format_result(seq):\n",
    "    from itertools import groupby\n",
    "\n",
    "    res = \"\"\n",
    "    for _, v in groupby([1, 1, -1, 1]):\n",
    "        res += str(len(list(v)))\n",
    "    res\n",
    "\n",
    "\n",
    "    return res\n",
    "\n",
    "format_result([1, 1, -1, 1])"
   ]
  },
  {
   "cell_type": "code",
   "execution_count": 12,
   "id": "76f83837-7e4f-4ca3-b5f3-cb08641bb952",
   "metadata": {},
   "outputs": [
    {
     "data": {
      "text/plain": [
       "([1, 1, 1, -1, -1, 1, -1], 3)"
      ]
     },
     "execution_count": 12,
     "metadata": {},
     "output_type": "execute_result"
    }
   ],
   "source": [
    "cord_res, val"
   ]
  },
  {
   "cell_type": "code",
   "execution_count": 13,
   "id": "c3315485-16fc-4052-9064-1f0d629e7f78",
   "metadata": {},
   "outputs": [
    {
     "data": {
      "text/plain": [
       "'211'"
      ]
     },
     "execution_count": 13,
     "metadata": {},
     "output_type": "execute_result"
    }
   ],
   "source": [
    "format_result(cord_res)"
   ]
  },
  {
   "cell_type": "code",
   "execution_count": 22,
   "id": "1eaedc3d-eee5-4ca2-9dcb-5d7c13f6e69d",
   "metadata": {},
   "outputs": [
    {
     "ename": "IndexError",
     "evalue": "list assignment index out of range",
     "output_type": "error",
     "traceback": [
      "\u001b[0;31m---------------------------------------------------------------------------\u001b[0m",
      "\u001b[0;31mIndexError\u001b[0m                                Traceback (most recent call last)",
      "Cell \u001b[0;32mIn[22], line 1\u001b[0m\n\u001b[0;32m----> 1\u001b[0m complete_skew_symmetric([\u001b[38;5;241m1\u001b[39m,\u001b[38;5;241m2\u001b[39m,\u001b[38;5;241m3\u001b[39m,\u001b[38;5;241m4\u001b[39m,\u001b[38;5;241m5\u001b[39m])\n",
      "Cell \u001b[0;32mIn[21], line 8\u001b[0m, in \u001b[0;36mcomplete_skew_symmetric\u001b[0;34m(seq)\u001b[0m\n\u001b[1;32m      6\u001b[0m \u001b[38;5;28;01mfor\u001b[39;00m i \u001b[38;5;129;01min\u001b[39;00m \u001b[38;5;28mrange\u001b[39m(\u001b[38;5;241m1\u001b[39m, k):\n\u001b[1;32m      7\u001b[0m     next_s \u001b[38;5;241m=\u001b[39m ((\u001b[38;5;241m-\u001b[39m\u001b[38;5;241m1\u001b[39m)\u001b[38;5;241m*\u001b[39m\u001b[38;5;241m*\u001b[39mi) \u001b[38;5;241m*\u001b[39m seq[k\u001b[38;5;241m-\u001b[39mi]\n\u001b[0;32m----> 8\u001b[0m     seq[k\u001b[38;5;241m+\u001b[39mi] \u001b[38;5;241m=\u001b[39m next_s\n\u001b[1;32m     11\u001b[0m \u001b[38;5;28;01mreturn\u001b[39;00m seq\n",
      "\u001b[0;31mIndexError\u001b[0m: list assignment index out of range"
     ]
    }
   ],
   "source": [
    "complete_skew_symmetric([1,2,3,4,5])"
   ]
  },
  {
   "cell_type": "code",
   "execution_count": 28,
   "id": "bf7b3321-8890-473a-ab0a-158842fa44ea",
   "metadata": {},
   "outputs": [],
   "source": [
    "a = [1,2,3]\n",
    "b = a.copy(deep)"
   ]
  },
  {
   "cell_type": "code",
   "execution_count": 29,
   "id": "61bfb81c-83b3-47d7-8376-00ac4df26bb4",
   "metadata": {},
   "outputs": [
    {
     "data": {
      "text/plain": [
       "[1, 2, 3]"
      ]
     },
     "execution_count": 29,
     "metadata": {},
     "output_type": "execute_result"
    }
   ],
   "source": [
    "b"
   ]
  },
  {
   "cell_type": "code",
   "execution_count": 30,
   "id": "02f854ac-fd16-4727-bfc9-7e33e5cbd554",
   "metadata": {},
   "outputs": [],
   "source": [
    "b.append(4)"
   ]
  },
  {
   "cell_type": "code",
   "execution_count": 31,
   "id": "ca9548dc-b491-4a57-bd6a-e9cd9e751f6b",
   "metadata": {},
   "outputs": [
    {
     "data": {
      "text/plain": [
       "[1, 2, 3]"
      ]
     },
     "execution_count": 31,
     "metadata": {},
     "output_type": "execute_result"
    }
   ],
   "source": [
    "a"
   ]
  },
  {
   "cell_type": "code",
   "execution_count": null,
   "id": "faa3ecba-355b-492a-986a-dd94b7df7e81",
   "metadata": {},
   "outputs": [],
   "source": []
  }
 ],
 "metadata": {
  "kernelspec": {
   "display_name": "Python 3 (ipykernel)",
   "language": "python",
   "name": "python3"
  },
  "language_info": {
   "codemirror_mode": {
    "name": "ipython",
    "version": 3
   },
   "file_extension": ".py",
   "mimetype": "text/x-python",
   "name": "python",
   "nbconvert_exporter": "python",
   "pygments_lexer": "ipython3",
   "version": "3.11.5"
  }
 },
 "nbformat": 4,
 "nbformat_minor": 5
}
