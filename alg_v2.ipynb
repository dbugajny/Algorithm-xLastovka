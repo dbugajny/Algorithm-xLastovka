{
 "cells": [
  {
   "cell_type": "code",
   "execution_count": 2,
   "id": "33e3c159fa46bb33",
   "metadata": {},
   "outputs": [],
   "source": [
    "import random\n",
    "from queue import PriorityQueue"
   ]
  },
  {
   "cell_type": "code",
   "execution_count": 3,
   "id": "7261dea664a9d368",
   "metadata": {
    "ExecuteTime": {
     "end_time": "2023-12-08T20:51:33.571494Z",
     "start_time": "2023-12-08T20:51:33.563386Z"
    }
   },
   "outputs": [],
   "source": [
    "def c(sequence, k):\n",
    "    return sum([sequence[i] * sequence[i+k] for i in range(0, len(sequence) - k)])\n",
    "\n",
    "def e(sequence):\n",
    "    return sum([c(sequence, k) ** 2 for k in range(1, len(sequence))])\n",
    "\n",
    "def f(sequence):\n",
    "    return len(sequence) ** 2 / (2 * e(sequence))"
   ]
  },
  {
   "cell_type": "code",
   "execution_count": 4,
   "id": "e1eb7a0d0aa5fa7f",
   "metadata": {
    "ExecuteTime": {
     "end_time": "2023-12-08T20:51:33.809576Z",
     "start_time": "2023-12-08T20:51:33.801863Z"
    }
   },
   "outputs": [
    {
     "data": {
      "text/plain": [
       "2"
      ]
     },
     "execution_count": 4,
     "metadata": {},
     "output_type": "execute_result"
    }
   ],
   "source": [
    "abc = [1, -1, 1, 1]\n",
    "L = 4\n",
    "\n",
    "e(abc)"
   ]
  },
  {
   "cell_type": "code",
   "execution_count": 5,
   "id": "75ce04f00e8d3c38",
   "metadata": {
    "ExecuteTime": {
     "end_time": "2023-12-08T20:54:14.534163Z",
     "start_time": "2023-12-08T20:54:14.519671Z"
    }
   },
   "outputs": [],
   "source": [
    "def initialize_coord(length):\n",
    "    return random.choices([1, -1], k=length)\n",
    "\n",
    "def evaluate(coord):\n",
    "    return e(coord)"
   ]
  },
  {
   "cell_type": "code",
   "execution_count": 6,
   "id": "759da900",
   "metadata": {},
   "outputs": [],
   "source": [
    "def init_skew_symmetric(length):\n",
    "    n = (length+1)//2\n",
    "    \n",
    "    seq = random.choices([1, -1], k=n)\n",
    "    \n",
    "    for i in range(1, n):\n",
    "        next_s = ((-1)**i) * seq[n-i]\n",
    "        seq.append(next_s)\n",
    "        \n",
    "    \n",
    "    return seq"
   ]
  },
  {
   "cell_type": "code",
   "execution_count": 7,
   "id": "18d06c1a",
   "metadata": {},
   "outputs": [],
   "source": [
    "def complete_skew_symmetric(seq):\n",
    "    length = len(seq)\n",
    "    \n",
    "    n = (length+1)//2\n",
    "    \n",
    "    for i in range(1, n):\n",
    "        next_s = ((-1)**i) * seq[n-i]\n",
    "        seq[n+1] = next_s\n",
    "        \n",
    "    \n",
    "    return seq"
   ]
  },
  {
   "cell_type": "code",
   "execution_count": 8,
   "id": "3620513b21edf45c",
   "metadata": {
    "ExecuteTime": {
     "end_time": "2023-12-08T20:51:34.794582Z",
     "start_time": "2023-12-08T20:51:34.787401Z"
    }
   },
   "outputs": [],
   "source": [
    "def lst_to_str(lst):\n",
    "    lst_int = [str(int(x)) for x in lst]\n",
    "    \n",
    "    return \"\".join(lst_int)"
   ]
  },
  {
   "cell_type": "code",
   "execution_count": 9,
   "id": "initial_id",
   "metadata": {
    "ExecuteTime": {
     "end_time": "2023-12-09T09:21:31.051773Z",
     "start_time": "2023-12-09T09:21:31.046570Z"
    }
   },
   "outputs": [],
   "source": [
    "def xlastovka_algorithm(length, target_values, max_iter):\n",
    "    priority_queue = PriorityQueue()\n",
    "    close_pivots = set()\n",
    "    coord = init_skew_symmetric(length)\n",
    "    cnt_probe = 0\n",
    "    \n",
    "    value = evaluate(coord)\n",
    "    \n",
    "    cnt_probe += 1\n",
    "    \n",
    "    print(f\"INIT EVAL: {value}\")\n",
    "    \n",
    "    if value <= target_values:\n",
    "        return coord, value\n",
    "\n",
    "    priority_queue.put((value, coord))\n",
    "    \n",
    "    while value > target_values and cnt_probe <= max_iter:\n",
    "        _, coord  = priority_queue.get()\n",
    "        \n",
    "        for i in range(1, ((length + 1) // 2) + 1):\n",
    "            s_flipped = coord\n",
    "            s_flipped[i] *= -1\n",
    "            \n",
    "            if lst_to_str(s_flipped) in close_pivots:\n",
    "                continue\n",
    "            else:\n",
    "                value = evaluate(s_flipped)\n",
    "                cnt_probe += 1\n",
    "                \n",
    "            if value <= target_values:\n",
    "                break\n",
    "            else:\n",
    "                priority_queue.put((value, s_flipped))\n",
    "            \n",
    "        close_pivots.add(lst_to_str(coord))\n",
    "    \n",
    "    print(f\"N iters: {cnt_probe}\")\n",
    "    return coord, value    "
   ]
  },
  {
   "cell_type": "code",
   "execution_count": 10,
   "id": "82afcc6b212da859",
   "metadata": {
    "ExecuteTime": {
     "end_time": "2023-12-09T09:21:32.468248Z",
     "start_time": "2023-12-09T09:21:31.776834Z"
    }
   },
   "outputs": [
    {
     "name": "stdout",
     "output_type": "stream",
     "text": [
      "INIT EVAL: 7\n",
      "N iters: 8\n"
     ]
    }
   ],
   "source": [
    "cord_res,val = xlastovka_algorithm(7, 3, 100000)"
   ]
  },
  {
   "cell_type": "code",
   "execution_count": 11,
   "id": "35516a012390d7d7",
   "metadata": {
    "ExecuteTime": {
     "end_time": "2023-12-08T21:00:55.802322Z",
     "start_time": "2023-12-08T21:00:55.793934Z"
    }
   },
   "outputs": [
    {
     "data": {
      "text/plain": [
       "'211'"
      ]
     },
     "execution_count": 11,
     "metadata": {},
     "output_type": "execute_result"
    }
   ],
   "source": [
    "def format_result(seq):\n",
    "    from itertools import groupby\n",
    "\n",
    "    res = \"\"\n",
    "    for _, v in groupby([1, 1, -1, 1]):\n",
    "        res += str(len(list(v)))\n",
    "    res\n",
    "\n",
    "\n",
    "    return res\n",
    "\n",
    "format_result([1, 1, -1, 1])"
   ]
  },
  {
   "cell_type": "code",
   "execution_count": 12,
   "id": "76f83837-7e4f-4ca3-b5f3-cb08641bb952",
   "metadata": {},
   "outputs": [
    {
     "data": {
      "text/plain": [
       "([1, 1, 1, -1, -1, 1, -1], 3)"
      ]
     },
     "execution_count": 12,
     "metadata": {},
     "output_type": "execute_result"
    }
   ],
   "source": [
    "cord_res, val"
   ]
  },
  {
   "cell_type": "code",
   "execution_count": 13,
   "id": "c3315485-16fc-4052-9064-1f0d629e7f78",
   "metadata": {},
   "outputs": [
    {
     "data": {
      "text/plain": [
       "'211'"
      ]
     },
     "execution_count": 13,
     "metadata": {},
     "output_type": "execute_result"
    }
   ],
   "source": [
    "format_result(cord_res)"
   ]
  },
  {
   "cell_type": "code",
   "execution_count": null,
   "id": "1eaedc3d-eee5-4ca2-9dcb-5d7c13f6e69d",
   "metadata": {},
   "outputs": [],
   "source": []
  }
 ],
 "metadata": {
  "kernelspec": {
   "display_name": "Python 3 (ipykernel)",
   "language": "python",
   "name": "python3"
  },
  "language_info": {
   "codemirror_mode": {
    "name": "ipython",
    "version": 3
   },
   "file_extension": ".py",
   "mimetype": "text/x-python",
   "name": "python",
   "nbconvert_exporter": "python",
   "pygments_lexer": "ipython3",
   "version": "3.11.5"
  }
 },
 "nbformat": 4,
 "nbformat_minor": 5
}
